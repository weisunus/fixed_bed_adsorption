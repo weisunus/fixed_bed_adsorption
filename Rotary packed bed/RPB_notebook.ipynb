{
 "cells": [
  {
   "attachments": {},
   "cell_type": "markdown",
   "metadata": {},
   "source": [
    "# Import RPB model along with other utility functions"
   ]
  },
  {
   "cell_type": "code",
   "execution_count": 1,
   "metadata": {},
   "outputs": [],
   "source": [
    "from RPB_model import *"
   ]
  },
  {
   "cell_type": "markdown",
   "metadata": {},
   "source": [
    "# Creating model for a single side/section of the RPB"
   ]
  },
  {
   "cell_type": "code",
   "execution_count": 1,
   "metadata": {},
   "outputs": [
    {
     "ename": "NameError",
     "evalue": "name 'RPB_model' is not defined",
     "output_type": "error",
     "traceback": [
      "\u001b[1;31m---------------------------------------------------------------------------\u001b[0m",
      "\u001b[1;31mNameError\u001b[0m                                 Traceback (most recent call last)",
      "Cell \u001b[1;32mIn[1], line 4\u001b[0m\n\u001b[0;32m      1\u001b[0m \u001b[38;5;66;03m# Create model instance. Currently, mode can be either \"adsorption\" or \"desorption\" which sets the initial values and boundary conditions for each case.\u001b[39;00m\n\u001b[0;32m      2\u001b[0m \u001b[38;5;66;03m# m=RPB_model(mode=\"adsorption\", gas_flow_direction=1)\u001b[39;00m\n\u001b[0;32m      3\u001b[0m \u001b[38;5;66;03m# or\u001b[39;00m\n\u001b[1;32m----> 4\u001b[0m m\u001b[38;5;241m=\u001b[39m\u001b[43mRPB_model\u001b[49m(mode\u001b[38;5;241m=\u001b[39m\u001b[38;5;124m\"\u001b[39m\u001b[38;5;124mdesorption\u001b[39m\u001b[38;5;124m\"\u001b[39m, gas_flow_direction\u001b[38;5;241m=\u001b[39m\u001b[38;5;241m1\u001b[39m)\n\u001b[0;32m      6\u001b[0m \u001b[38;5;66;03m# Custom initialization routine. Uses block initialization function.\u001b[39;00m\n\u001b[0;32m      7\u001b[0m single_section_init(m)\n",
      "\u001b[1;31mNameError\u001b[0m: name 'RPB_model' is not defined"
     ]
    }
   ],
   "source": [
    "# Create model instance. Currently, mode can be either \"adsorption\" or \"desorption\" which sets the initial values and boundary conditions for each case.\n",
    "# m=RPB_model(mode=\"adsorption\", gas_flow_direction=1)\n",
    "# or\n",
    "m=RPB_model(mode=\"desorption\", gas_flow_direction=1)\n",
    "\n",
    "# Custom initialization routine. Uses block initialization function.\n",
    "single_section_init(m)"
   ]
  },
  {
   "cell_type": "code",
   "execution_count": null,
   "metadata": {},
   "outputs": [],
   "source": [
    "# Some various utility functions to check model performance\n",
    "evaluate_MB_error(m)\n",
    "\n",
    "print(f'CO2 Capture = {m.CO2_capture():.3}')"
   ]
  },
  {
   "cell_type": "code",
   "execution_count": null,
   "metadata": {},
   "outputs": [],
   "source": [
    "# scaling functions\n",
    "\n",
    "# check_scaling(m)\n",
    "\n",
    "# jac, variables, constraints = scaling_script(m)"
   ]
  },
  {
   "cell_type": "code",
   "execution_count": null,
   "metadata": {},
   "outputs": [],
   "source": [
    "plotting(m)"
   ]
  },
  {
   "attachments": {},
   "cell_type": "markdown",
   "metadata": {},
   "source": [
    "# Creating a full RPB model"
   ]
  },
  {
   "cell_type": "markdown",
   "metadata": {},
   "source": [
    "From scratch"
   ]
  },
  {
   "cell_type": "code",
   "execution_count": null,
   "metadata": {},
   "outputs": [],
   "source": [
    "# create pyomo model\n",
    "RPB = full_model_creation(lean_temp_connection=True, configuration = \"counter-current\")"
   ]
  },
  {
   "cell_type": "code",
   "execution_count": null,
   "metadata": {},
   "outputs": [],
   "source": [
    "RPB.ads.P.setub(1.26)\n",
    "RPB.ads.P_in.setub(1.26)\n",
    "\n",
    "RPB.des.P.setub(1.04)\n",
    "\n",
    "RPB.ads.L.fix(7.811853)\n",
    "RPB.ads.theta.fix(0.606758)\n",
    "RPB.des.P_in.fix(1.034350)\n",
    "RPB.ads.Tx.fix(347.700154)\n",
    "RPB.des.Tx.fix(433)\n",
    "# RPB.ads.w_rpm.fix(0.003502)\n",
    "RPB.ads.P_in.fix(1.250714)"
   ]
  },
  {
   "cell_type": "code",
   "execution_count": null,
   "metadata": {},
   "outputs": [],
   "source": [
    "# initialize using BlockTriangularizationInitializer() with a list of values for initialization factors within the models\n",
    "init_routine_1(RPB, homotopy_points=[1e-5,1e-4,1e-3,1e-2] + np.linspace(0.1,1,5).tolist())"
   ]
  },
  {
   "cell_type": "code",
   "execution_count": null,
   "metadata": {},
   "outputs": [],
   "source": [
    "init_obj = BlockTriangularizationInitializer()\n",
    "\n",
    "init_obj.config.block_solver_call_options = {\"tee\": True}\n",
    "init_obj.config.block_solver_options = {\n",
    "    # \"halt_on_ampl_error\": \"yes\",\n",
    "    \"max_iter\": 1000,\n",
    "}\n",
    "\n",
    "# target = 0.003502\n",
    "targets = [0.1,0.05,0.01,0.005,0.003502]\n",
    "\n",
    "for target in targets:\n",
    "\n",
    "    steps = np.linspace(0,1,10)\n",
    "\n",
    "    points = [(target - RPB.ads.w_rpm())*i + RPB.ads.w_rpm() for i in steps]\n",
    "\n",
    "    for i in points:\n",
    "        RPB.ads.w_rpm.fix(i)\n",
    "        \n",
    "        init_obj.initialization_routine(RPB)\n",
    "\n",
    "    solver = SolverFactory(\"ipopt\")\n",
    "    solver.options = {\n",
    "        \"max_iter\": 500,\n",
    "        \"bound_push\": 1e-22,\n",
    "        \"halt_on_ampl_error\": \"yes\",\n",
    "    }\n",
    "    solver.solve(RPB, tee=True).write()"
   ]
  },
  {
   "cell_type": "code",
   "execution_count": null,
   "metadata": {},
   "outputs": [],
   "source": [
    "get_init_factors(RPB.ads) # these should all be = 1"
   ]
  },
  {
   "cell_type": "code",
   "execution_count": null,
   "metadata": {},
   "outputs": [],
   "source": [
    "report(RPB)"
   ]
  },
  {
   "cell_type": "markdown",
   "metadata": {},
   "source": [
    "From a previous solution"
   ]
  },
  {
   "cell_type": "code",
   "execution_count": null,
   "metadata": {},
   "outputs": [],
   "source": [
    "# create pyomo model\n",
    "RPB = full_model_creation(lean_temp_connection=True, configuration = \"counter-current\")\n",
    "\n",
    "# load a previous solution and solve\n",
    "from_json(RPB, fname=\"base case solution 012424.json.gz\", gz=True)\n",
    "\n",
    "solver = SolverFactory(\"ipopt\")\n",
    "solver.options = {\n",
    "    \"max_iter\": 1000,\n",
    "    \"bound_push\": 1e-22,\n",
    "    \"halt_on_ampl_error\": \"yes\",\n",
    "}\n",
    "solver.solve(RPB, tee=True).write()"
   ]
  },
  {
   "cell_type": "code",
   "execution_count": null,
   "metadata": {},
   "outputs": [],
   "source": [
    "report(RPB)"
   ]
  },
  {
   "cell_type": "code",
   "execution_count": null,
   "metadata": {},
   "outputs": [],
   "source": [
    "evaluate_MB_error(RPB.ads)\n",
    "print(' ')\n",
    "evaluate_MB_error(RPB.des)"
   ]
  },
  {
   "cell_type": "code",
   "execution_count": null,
   "metadata": {},
   "outputs": [],
   "source": [
    "# different scaling functions\n",
    "\n",
    "# check_scaling(RPB)\n",
    "\n",
    "# jac, variables, constraints = scaling_script(RPB)"
   ]
  },
  {
   "cell_type": "markdown",
   "metadata": {},
   "source": [
    "# Optimization"
   ]
  },
  {
   "cell_type": "markdown",
   "metadata": {},
   "source": [
    "start from initialized model"
   ]
  },
  {
   "cell_type": "code",
   "execution_count": null,
   "metadata": {},
   "outputs": [],
   "source": [
    "# starting from initialized model. Change design to fix capture by freeing up inlet adsorber pressure\n",
    "\n",
    "RPB.ads.P_in.unfix()\n",
    "RPB.ads.CO2_capture.fix(0.95)\n",
    "\n",
    "solver = SolverFactory(\"ipopt\")\n",
    "solver.options = {\n",
    "    \"max_iter\": 1000,\n",
    "    \"bound_push\": 1e-22,\n",
    "    # \"halt_on_ampl_error\": \"yes\",\n",
    "}\n",
    "solver.solve(RPB, tee=True).write()"
   ]
  },
  {
   "cell_type": "code",
   "execution_count": null,
   "metadata": {},
   "outputs": [],
   "source": [
    "# create regularization parameter for the objective function\n",
    "RPB.alpha_obj = Param(initialize=0.5, mutable=True)\n",
    "\n",
    "# add objective\n",
    "@RPB.Expression()\n",
    "def obj(RPB):\n",
    "    return RPB.alpha_obj * RPB.energy_requirement - (1 - RPB.alpha_obj) * RPB.productivity\n",
    "\n",
    "RPB.objective = Objective(expr=RPB.obj)\n",
    "\n",
    "RPB.objective.pprint()"
   ]
  },
  {
   "cell_type": "code",
   "execution_count": null,
   "metadata": {},
   "outputs": [],
   "source": [
    "# set bounds for decision variables\n",
    "RPB.ads.L.setlb(0.01)\n",
    "RPB.ads.L.setub(40)\n",
    "RPB.des.L.setlb(0.01)\n",
    "RPB.des.L.setub(40)\n",
    "RPB.ads.L.pprint()\n",
    "\n",
    "RPB.ads.Tx.setlb(25+273)\n",
    "RPB.ads.Tx.setub(95+273)\n",
    "RPB.ads.Tx.pprint()\n",
    "\n",
    "RPB.des.Tx.setlb(100+273)\n",
    "RPB.des.Tx.setub(160+273)\n",
    "RPB.des.Tx.pprint()\n",
    "\n",
    "RPB.ads.P_in.setub(1.5)\n",
    "RPB.ads.P_in.pprint()\n",
    "RPB.ads.P.setub(1.5)\n",
    "\n",
    "RPB.des.P_in.setub(1.5)\n",
    "RPB.des.P_in.setlb(1.01325)\n",
    "RPB.des.P.setub(1.5)\n",
    "RPB.des.P_in.pprint()\n",
    "\n",
    "RPB.ads.w_rpm.setlb(0.00001)\n",
    "RPB.ads.w_rpm.setub(0.005)\n",
    "RPB.ads.w_rpm.pprint()"
   ]
  },
  {
   "cell_type": "code",
   "execution_count": null,
   "metadata": {},
   "outputs": [],
   "source": [
    "# free up decision variables (keep des.Tx fixed for first run the free up later)\n",
    "RPB.ads.L.unfix()\n",
    "RPB.ads.theta.unfix()\n",
    "RPB.des.P_in.unfix()\n",
    "RPB.ads.Tx.unfix()\n",
    "RPB.des.Tx.unfix()\n",
    "RPB.ads.w_rpm.unfix()"
   ]
  },
  {
   "cell_type": "code",
   "execution_count": null,
   "metadata": {},
   "outputs": [],
   "source": [
    "degrees_of_freedom(RPB)"
   ]
  },
  {
   "cell_type": "code",
   "execution_count": null,
   "metadata": {},
   "outputs": [],
   "source": [
    "RPB.ads.w_rpm.unfix()"
   ]
  },
  {
   "cell_type": "code",
   "execution_count": null,
   "metadata": {},
   "outputs": [],
   "source": [
    "# solve using conopt thorugh gams\n",
    "results = SolverFactory(\"gams\").solve(\n",
    "    RPB,\n",
    "    tee=True,\n",
    "    keepfiles=True,\n",
    "    solver=\"conopt4\",\n",
    "    tmpdir=\"temp\",\n",
    "    add_options=[\"gams_model.optfile=1;\"],\n",
    ")"
   ]
  },
  {
   "cell_type": "code",
   "execution_count": null,
   "metadata": {},
   "outputs": [],
   "source": [
    "# or solve using ipopt\n",
    "# solver = SolverFactory(\"ipopt\")\n",
    "# solver.options = {\n",
    "#     \"max_iter\": 1000,\n",
    "#     \"bound_push\": 1e-8,\n",
    "#     # \"halt_on_ampl_error\": \"yes\",\n",
    "#     \"tol\": 1e-4,\n",
    "#     \"max_cpu_time\": 5*60,\n",
    "#     # \"mu_strategy\": \"adaptive\",\n",
    "# }\n",
    "# solver.solve(RPB, tee=True).write()"
   ]
  },
  {
   "cell_type": "code",
   "execution_count": null,
   "metadata": {},
   "outputs": [],
   "source": [
    "results_df = report(RPB)\n",
    "results_df"
   ]
  },
  {
   "cell_type": "code",
   "execution_count": null,
   "metadata": {},
   "outputs": [],
   "source": [
    "evaluate_MB_error(RPB.ads)\n",
    "print(' ')\n",
    "evaluate_MB_error(RPB.des)"
   ]
  },
  {
   "cell_type": "code",
   "execution_count": null,
   "metadata": {},
   "outputs": [],
   "source": [
    "# custom function using degeneracy hunter. Mainly to see if any variables are pushing their bounds\n",
    "degen_hunter(RPB)"
   ]
  },
  {
   "cell_type": "markdown",
   "metadata": {},
   "source": [
    "start from previous optimized case"
   ]
  },
  {
   "cell_type": "code",
   "execution_count": null,
   "metadata": {},
   "outputs": [],
   "source": [
    "# create pyomo model\n",
    "RPB = full_model_creation(lean_temp_connection=True, configuration = \"counter-current\")"
   ]
  },
  {
   "cell_type": "code",
   "execution_count": null,
   "metadata": {},
   "outputs": [],
   "source": [
    "# create regularization parameter for the objective function\n",
    "RPB.alpha_obj = Param(initialize=0.5, mutable=True)\n",
    "\n",
    "# add objective\n",
    "@RPB.Expression()\n",
    "def obj(RPB):\n",
    "    return RPB.alpha_obj * RPB.energy_requirement - (1 - RPB.alpha_obj) * RPB.productivity\n",
    "\n",
    "RPB.objective = Objective(expr=RPB.obj)\n",
    "\n",
    "RPB.objective.pprint()"
   ]
  },
  {
   "cell_type": "code",
   "execution_count": null,
   "metadata": {},
   "outputs": [],
   "source": [
    "# set bounds for decision variables\n",
    "RPB.ads.L.setlb(0.01)\n",
    "RPB.ads.L.setub(40)\n",
    "RPB.des.L.setlb(0.01)\n",
    "RPB.des.L.setub(40)\n",
    "RPB.ads.L.pprint()"
   ]
  },
  {
   "cell_type": "code",
   "execution_count": null,
   "metadata": {},
   "outputs": [],
   "source": [
    "RPB.ads.Tx.setlb(25+273)\n",
    "RPB.ads.Tx.setub(95+273)\n",
    "RPB.ads.Tx.pprint()"
   ]
  },
  {
   "cell_type": "code",
   "execution_count": null,
   "metadata": {},
   "outputs": [],
   "source": [
    "RPB.des.Tx.setlb(100+273)\n",
    "RPB.des.Tx.setub(160+273)\n",
    "RPB.des.Tx.pprint()"
   ]
  },
  {
   "cell_type": "code",
   "execution_count": null,
   "metadata": {},
   "outputs": [],
   "source": [
    "RPB.ads.P_in.setub(1.5)\n",
    "RPB.ads.P_in.pprint()\n",
    "RPB.ads.P.setub(1.5)"
   ]
  },
  {
   "cell_type": "code",
   "execution_count": null,
   "metadata": {},
   "outputs": [],
   "source": [
    "RPB.des.P_in.setub(1.5)\n",
    "RPB.des.P_in.setlb(1.01325)\n",
    "RPB.des.P.setub(1.5)\n",
    "RPB.des.P_in.pprint()"
   ]
  },
  {
   "cell_type": "code",
   "execution_count": null,
   "metadata": {},
   "outputs": [],
   "source": [
    "RPB.ads.w_rpm.setlb(0.00001)\n",
    "RPB.ads.w_rpm.setub(0.1)\n",
    "RPB.ads.w_rpm.pprint()"
   ]
  },
  {
   "cell_type": "code",
   "execution_count": null,
   "metadata": {},
   "outputs": [],
   "source": [
    "# load a previous solution and solve\n",
    "from_json(RPB, fname=\"opt solution 012424.json.gz\", gz=True)"
   ]
  },
  {
   "cell_type": "code",
   "execution_count": null,
   "metadata": {},
   "outputs": [],
   "source": [
    "RPB.alpha_obj.pprint()"
   ]
  },
  {
   "cell_type": "code",
   "execution_count": null,
   "metadata": {},
   "outputs": [],
   "source": [
    "# free up decision variables (keep des.Tx fixed for first run the free up later)\n",
    "RPB.ads.L.unfix()\n",
    "RPB.ads.theta.unfix()\n",
    "RPB.des.P_in.unfix()\n",
    "RPB.ads.Tx.unfix()\n",
    "RPB.des.Tx.unfix()\n",
    "RPB.ads.w_rpm.unfix()"
   ]
  },
  {
   "cell_type": "code",
   "execution_count": null,
   "metadata": {},
   "outputs": [],
   "source": [
    "degrees_of_freedom(RPB)"
   ]
  },
  {
   "cell_type": "code",
   "execution_count": null,
   "metadata": {},
   "outputs": [],
   "source": [
    "# solve using conopt thorugh gams\n",
    "results = SolverFactory(\"gams\").solve(\n",
    "    RPB,\n",
    "    tee=True,\n",
    "    keepfiles=True,\n",
    "    solver=\"conopt4\",\n",
    "    tmpdir=\"temp\",\n",
    "    add_options=[\"gams_model.optfile=1;\"],\n",
    ")"
   ]
  },
  {
   "cell_type": "code",
   "execution_count": null,
   "metadata": {},
   "outputs": [],
   "source": [
    "report(RPB)"
   ]
  },
  {
   "cell_type": "code",
   "execution_count": null,
   "metadata": {},
   "outputs": [],
   "source": [
    "degen_hunter(RPB)"
   ]
  },
  {
   "cell_type": "markdown",
   "metadata": {},
   "source": [
    "pareto front generation"
   ]
  },
  {
   "cell_type": "code",
   "execution_count": null,
   "metadata": {},
   "outputs": [],
   "source": [
    "# list of alpha values to use in the objective function\n",
    "alpha_list=[\n",
    "    0.0001,\n",
    "    0.001,\n",
    "    0.005,\n",
    "    0.01,\n",
    "    0.02,\n",
    "    0.05,\n",
    "    0.1,\n",
    "    0.2,\n",
    "    0.3,\n",
    "    0.4,\n",
    "    0.5,\n",
    "    0.6,\n",
    "    0.7,\n",
    "    0.8,\n",
    "    0.9,\n",
    "    0.925,\n",
    "    0.95,\n",
    "    0.975,\n",
    "    0.99,\n",
    "    0.999,\n",
    "]"
   ]
  },
  {
   "cell_type": "code",
   "execution_count": null,
   "metadata": {},
   "outputs": [],
   "source": [
    "# optimize for every value and store the results\n",
    "E = []\n",
    "P = []\n",
    "\n",
    "for j in alpha_list:\n",
    "    RPB.alpha_obj = j\n",
    "\n",
    "    results = SolverFactory(\"gams\").solve(\n",
    "        RPB,\n",
    "        tee=True,\n",
    "        keepfiles=True,\n",
    "        solver=\"conopt4\",\n",
    "        tmpdir=\"temp\",\n",
    "        add_options=[\"gams_model.optfile=1;\"],\n",
    "    )\n",
    "\n",
    "    print(f'alpha = {j}, E={RPB.energy_requirement()}, P={RPB.productivity()}')\n",
    "\n",
    "    E.append(RPB.energy_requirement())\n",
    "    P.append(RPB.productivity())\n"
   ]
  },
  {
   "cell_type": "code",
   "execution_count": null,
   "metadata": {},
   "outputs": [],
   "source": [
    "pd.DataFrame({'alpha':alpha_list,'E':E,'P':P})"
   ]
  },
  {
   "cell_type": "code",
   "execution_count": null,
   "metadata": {},
   "outputs": [],
   "source": [
    "plt.scatter(E,P)"
   ]
  },
  {
   "cell_type": "markdown",
   "metadata": {},
   "source": [
    "# Polishing step simulation and optimization"
   ]
  },
  {
   "cell_type": "markdown",
   "metadata": {},
   "source": [
    "start from previous optimized case"
   ]
  },
  {
   "cell_type": "code",
   "execution_count": 2,
   "metadata": {},
   "outputs": [],
   "source": [
    "# create pyomo model\n",
    "RPB = full_model_creation(lean_temp_connection=True, configuration = \"counter-current\")"
   ]
  },
  {
   "cell_type": "code",
   "execution_count": 3,
   "metadata": {},
   "outputs": [
    {
     "name": "stdout",
     "output_type": "stream",
     "text": [
      "objective : Size=1, Index=None, Active=True\n",
      "    Key  : Active : Sense    : Expression\n",
      "    None :   True : minimize :        obj\n"
     ]
    }
   ],
   "source": [
    "# create regularization parameter for the objective function\n",
    "RPB.alpha_obj = Param(initialize=0.5, mutable=True)\n",
    "\n",
    "# add objective\n",
    "@RPB.Expression()\n",
    "def obj(RPB):\n",
    "    return RPB.energy_requirement\n",
    "\n",
    "RPB.objective = Objective(expr=RPB.obj)\n",
    "\n",
    "RPB.objective.pprint()"
   ]
  },
  {
   "cell_type": "code",
   "execution_count": null,
   "metadata": {},
   "outputs": [],
   "source": [
    "# set bounds for decision variables\n",
    "RPB.ads.L.setlb(0.01)\n",
    "RPB.ads.L.setub(40)\n",
    "RPB.des.L.setlb(0.01)\n",
    "RPB.des.L.setub(40)\n",
    "RPB.ads.L.pprint()\n",
    "\n",
    "RPB.ads.Tx.setlb(25+273)\n",
    "RPB.ads.Tx.setub(95+273)\n",
    "RPB.ads.Tx.pprint()\n",
    "\n",
    "RPB.des.Tx.setlb(100+273)\n",
    "RPB.des.Tx.setub(160+273)\n",
    "RPB.des.Tx.pprint()\n",
    "\n",
    "RPB.ads.P_in.setub(1.5)\n",
    "RPB.ads.P_in.pprint()\n",
    "RPB.ads.P.setub(1.5)\n",
    "\n",
    "RPB.des.P_in.setub(1.5)\n",
    "RPB.des.P_in.setlb(1.01325)\n",
    "RPB.des.P.setub(1.5)\n",
    "RPB.des.P_in.pprint()\n",
    "\n",
    "RPB.ads.w_rpm.setlb(0.00001)\n",
    "RPB.ads.w_rpm.setub(0.1)\n",
    "RPB.ads.w_rpm.pprint()"
   ]
  },
  {
   "cell_type": "code",
   "execution_count": 10,
   "metadata": {},
   "outputs": [
    {
     "data": {
      "text/plain": [
       "{'etime_load_file': 0.12358546257019043,\n",
       " 'etime_read_dict': 0.3958475589752197,\n",
       " 'etime_read_suffixes': 0.016968727111816406}"
      ]
     },
     "execution_count": 10,
     "metadata": {},
     "output_type": "execute_result"
    }
   ],
   "source": [
    "# load a previous solution and solve (will also load the inlet gas feed conc.)\n",
    "from_json(RPB, fname=\"polishing step optimized solution 031824.json.gz\", gz=True)"
   ]
  },
  {
   "cell_type": "code",
   "execution_count": 11,
   "metadata": {
    "scrolled": true
   },
   "outputs": [
    {
     "name": "stdout",
     "output_type": "stream",
     "text": [
      "WARNING: model contains export suffix 'des.scaling_factor' that contains 5\n",
      "component keys that are not exported as part of the NL file.  Skipping.\n",
      "WARNING: model contains export suffix 'ads.scaling_factor' that contains 5\n",
      "component keys that are not exported as part of the NL file.  Skipping.\n",
      "Ipopt 3.13.2: max_iter=1000\n",
      "bound_push=1e-08\n",
      "tol=0.0001\n",
      "max_cpu_time=300\n",
      "\n",
      "\n",
      "******************************************************************************\n",
      "This program contains Ipopt, a library for large-scale nonlinear optimization.\n",
      " Ipopt is released as open source code under the Eclipse Public License (EPL).\n",
      "         For more information visit http://projects.coin-or.org/Ipopt\n",
      "\n",
      "This version of Ipopt was compiled from source code available at\n",
      "    https://github.com/IDAES/Ipopt as part of the Institute for the Design of\n",
      "    Advanced Energy Systems Process Systems Engineering Framework (IDAES PSE\n",
      "    Framework) Copyright (c) 2018-2019. See https://github.com/IDAES/idaes-pse.\n",
      "\n",
      "This version of Ipopt was compiled using HSL, a collection of Fortran codes\n",
      "    for large-scale scientific computation.  All technical papers, sales and\n",
      "    publicity material resulting from use of the HSL codes within IPOPT must\n",
      "    contain the following acknowledgement:\n",
      "        HSL, a collection of Fortran codes for large-scale scientific\n",
      "        computation. See http://www.hsl.rl.ac.uk.\n",
      "******************************************************************************\n",
      "\n",
      "This is Ipopt version 3.13.2, running with linear solver ma27.\n",
      "\n",
      "Number of nonzeros in equality constraint Jacobian...:    86137\n",
      "Number of nonzeros in inequality constraint Jacobian.:        0\n",
      "Number of nonzeros in Lagrangian Hessian.............:   146294\n",
      "\n",
      "Total number of variables............................:    21940\n",
      "                     variables with only lower bounds:       46\n",
      "                variables with lower and upper bounds:    12442\n",
      "                     variables with only upper bounds:        0\n",
      "Total number of equality constraints.................:    21934\n",
      "Total number of inequality constraints...............:        0\n",
      "        inequality constraints with only lower bounds:        0\n",
      "   inequality constraints with lower and upper bounds:        0\n",
      "        inequality constraints with only upper bounds:        0\n",
      "\n",
      "iter    objective    inf_pr   inf_du lg(mu)  ||d||  lg(rg) alpha_du alpha_pr  ls\n",
      "   0  6.4361619e+00 5.37e-09 1.00e+02  -1.0 0.00e+00    -  0.00e+00 0.00e+00   0\n",
      "   1  6.8647341e+00 1.03e+01 4.16e+04  -1.0 4.40e+03    -  8.75e-01 1.00e+00f  1\n",
      "   2  6.7897895e+00 1.41e+02 1.53e+04  -1.0 8.37e+02    -  2.29e-01 1.00e+00f  1\n",
      "   3  6.9253383e+00 1.29e+02 9.44e+03  -1.0 2.84e+03    -  2.35e-01 2.90e-01h  1\n",
      "   4  6.9620770e+00 9.21e+01 2.55e+04  -1.0 2.02e+03  -4.0 9.86e-03 5.29e-01h  1\n",
      "   5  6.9607439e+00 9.10e+01 2.52e+04  -1.0 2.70e+03  -3.6 1.87e-01 1.18e-02h  1\n",
      "   6  6.9367490e+00 4.80e+01 1.88e+05  -1.0 7.00e+02  -4.1 1.77e-02 7.14e-01h  1\n",
      "   7  6.8835024e+00 3.60e+01 9.85e+04  -1.0 1.63e+03  -3.6 1.36e-01 2.77e-01h  1\n",
      "   8  6.8650905e+00 2.21e+01 1.89e+05  -1.0 5.88e+03  -4.1 1.10e-01 3.86e-01H  1\n",
      "   9  6.8716728e+00 1.71e+01 1.46e+05  -1.0 2.32e+03  -3.7 5.87e-03 2.28e-01f  1\n",
      "iter    objective    inf_pr   inf_du lg(mu)  ||d||  lg(rg) alpha_du alpha_pr  ls\n",
      "  10  6.8638031e+00 2.85e+01 1.10e+06  -1.0 2.44e+03  -3.3 5.01e-01 8.10e-01h  1\n",
      "  11  6.7917953e+00 5.16e+01 1.10e+06  -1.0 2.84e+03  -3.7 2.07e-03 5.25e-01f  1\n",
      "  12  6.7982995e+00 3.11e+01 9.51e+05  -1.0 1.25e+03  -3.3 2.27e-01 1.52e-01h  1\n",
      "  13  6.7983470e+00 3.11e+01 9.49e+05  -1.0 8.72e+02  -2.9 1.01e-01 1.90e-03h  2\n",
      "  14  6.7985191e+00 3.09e+01 9.45e+05  -1.0 1.37e+03  -3.4 9.68e-02 4.55e-03h  2\n",
      "  15  6.8009829e+00 3.06e+01 9.34e+05  -1.0 3.15e+03  -3.8 1.98e-02 1.19e-02H  1\n",
      "  16  6.8148480e+00 2.87e+01 8.75e+05  -1.0 2.43e+03  -4.3 9.34e-04 6.18e-02h  2\n",
      "  17  6.8176243e+00 2.77e+01 8.47e+05  -1.0 3.34e+03  -3.9 5.12e-01 3.29e-02h  1\n",
      "  18  6.8303908e+00 2.41e+01 7.44e+05  -1.0 1.74e+03  -3.5 3.89e-03 1.29e-01f  1\n",
      "  19  6.8303994e+00 2.41e+01 7.44e+05  -1.0 2.52e+03  -3.0 6.22e-02 3.59e-04h  1\n",
      "iter    objective    inf_pr   inf_du lg(mu)  ||d||  lg(rg) alpha_du alpha_pr  ls\n",
      "  20  6.8329020e+00 2.30e+01 7.13e+05  -1.0 1.65e+03  -2.6 2.97e-01 4.64e-02h  1\n",
      "  21  6.8343343e+00 2.27e+01 7.02e+05  -1.0 1.66e+03  -3.1 9.02e-01 1.52e-02h  1\n",
      "  22  6.8589903e+00 1.70e+01 5.39e+05  -1.0 1.65e+03  -3.6 1.41e-01 2.85e-01h  1\n",
      "  23  6.7525101e+00 1.48e+01 4.23e+05  -1.0 1.80e+03  -4.0 2.70e-01 7.24e-01h  1\n",
      "  24  6.7918360e+00 3.71e+01 3.88e+05  -1.0 1.93e+03  -3.6 3.25e-02 5.30e-01f  1\n",
      "  25  6.7848047e+00 6.82e+01 4.09e+06  -1.0 6.09e+02  -1.4 5.40e-03 1.00e+00f  1\n",
      "  26  6.7310737e+00 7.12e+01 5.54e+06  -1.0 1.68e+03  -1.9 1.54e-02 6.05e-01f  1\n",
      "  27  6.7444024e+00 6.72e+01 1.13e+07  -1.0 1.04e+03  -1.4 1.34e-02 2.50e-01h  1\n",
      "  28  6.7449304e+00 6.04e+01 9.43e+06  -1.0 1.16e+03  -1.9 1.04e-01 1.01e-01h  1\n",
      "  29  6.7563266e+00 2.05e+01 4.13e+06  -1.0 9.28e+02  -2.4 2.83e-02 6.61e-01H  1\n",
      "iter    objective    inf_pr   inf_du lg(mu)  ||d||  lg(rg) alpha_du alpha_pr  ls\n",
      "  30  6.7563255e+00 2.04e+01 4.13e+06  -1.0 8.40e+02  -2.9 1.36e-02 1.60e-03h  1\n",
      "  31  6.7750822e+00 1.73e+01 1.94e+06  -1.0 8.87e+02  -3.3 7.28e-02 5.00e-01f  2\n",
      "  32  6.7516949e+00 1.56e+01 1.70e+06  -1.0 1.13e+03  -3.8 4.59e-01 1.25e-01h  4\n",
      "  33  6.7707751e+00 3.95e+01 3.59e+06  -1.0 8.23e+03  -4.3 3.04e-01 5.72e-01H  1\n",
      "  34  6.7547422e+00 1.94e+01 1.73e+06  -1.0 2.83e+02  -1.2 9.35e-03 9.49e-01h  1\n",
      "  35  6.7534172e+00 3.51e+01 5.23e+05  -1.0 3.13e+02  -1.6 1.00e+00 1.00e+00h  1\n",
      "  36  6.7509485e+00 2.85e+01 4.26e+05  -1.0 4.55e+02  -2.1 3.17e-01 1.89e-01h  1\n",
      "  37  6.7353025e+00 1.63e+01 9.81e+04  -1.0 3.43e+02  -2.6 1.66e-01 1.00e+00h  1\n",
      "  38  6.7372012e+00 1.82e+01 8.80e+04  -1.0 4.34e+02  -1.3 1.00e+00 5.00e-01h  2\n",
      "  39  6.7487324e+00 1.35e+01 1.15e+06  -1.0 1.11e+02  -0.8 3.92e-01 1.00e+00h  1\n",
      "iter    objective    inf_pr   inf_du lg(mu)  ||d||  lg(rg) alpha_du alpha_pr  ls\n",
      "  40  6.7349086e+00 2.75e+01 1.97e+07  -1.0 3.66e+02  -0.4 7.61e-01 1.00e+00h  1\n",
      "  41  6.7335039e+00 1.93e+01 1.46e+07  -1.0 5.59e+02  -0.9 1.31e-01 1.00e+00h  1\n",
      "  42  6.7041962e+00 3.30e+01 6.64e+06  -1.0 5.88e+02  -1.4 1.00e+00 1.00e+00H  1\n",
      "  43  6.6941669e+00 1.02e+01 3.33e+06  -1.0 4.52e+02  -1.8 1.64e-01 4.39e-01h  2\n",
      "  44  6.7068203e+00 8.82e+00 2.91e+06  -1.0 6.48e+02  -2.3 1.00e+00 1.35e-01h  1\n",
      "  45  6.7071313e+00 8.46e+00 2.80e+06  -1.0 1.38e+02  -1.9 1.00e+00 4.00e-02h  1\n",
      "  46  6.7239961e+00 1.37e+01 6.56e+05  -1.0 1.30e+02  -2.4 1.00e+00 1.00e+00h  1\n",
      "  47  6.7136260e+00 1.51e+01 3.22e+05  -1.0 1.76e+02  -2.8 9.60e-01 5.00e-01h  2\n",
      "  48  6.6949602e+00 2.27e-01 1.41e+04  -1.0 1.35e+02  -3.3 1.51e-01 1.00e+00h  1\n",
      "  49  6.6985413e+00 8.96e-02 4.49e+03  -1.0 2.85e+01  -3.8 1.00e+00 1.00e+00h  1\n",
      "iter    objective    inf_pr   inf_du lg(mu)  ||d||  lg(rg) alpha_du alpha_pr  ls\n",
      "  50  6.7100025e+00 3.41e+00 4.45e+03  -1.0 4.12e+01  -3.4 1.00e+00 1.00e+00F  1\n",
      "\n",
      "Number of Iterations....: 50\n",
      "\n",
      "                                   (scaled)                 (unscaled)\n",
      "Objective...............:   3.9075667068347186e-01    6.7100024579097139e+00\n",
      "Dual infeasibility......:   4.4537492912987300e+03    7.6478972551529063e+04\n",
      "Constraint violation....:   3.4094980250533204e+00    3.4094980250533204e+00\n",
      "Complementarity.........:   1.0000000035566395e-01    1.7171818129267808e+00\n",
      "Overall NLP error.......:   4.4537492912987300e+03    7.6478972551529063e+04\n",
      "\n",
      "\n",
      "Number of objective function evaluations             = 75\n",
      "Number of objective gradient evaluations             = 51\n",
      "Number of equality constraint evaluations            = 75\n",
      "Number of inequality constraint evaluations          = 0\n",
      "Number of equality constraint Jacobian evaluations   = 51\n",
      "Number of inequality constraint Jacobian evaluations = 0\n",
      "Number of Lagrangian Hessian evaluations             = 50\n",
      "Total CPU secs in IPOPT (w/o function evaluations)   =    300.600\n",
      "Total CPU secs in NLP function evaluations           =      1.967\n",
      "\n",
      "EXIT: Maximum CPU time exceeded.\n",
      "WARNING: Loading a SolverResults object with a warning status into\n",
      "model.name=\"unknown\";\n",
      "    - termination condition: maxIterations\n",
      "    - message from solver: Ipopt 3.13.2\\x3a Maximum CPU Time Exceeded.\n"
     ]
    }
   ],
   "source": [
    "# solve using conopt thorugh gams\n",
    "# results = SolverFactory(\"gams\").solve(\n",
    "#     RPB,\n",
    "#     tee=True,\n",
    "#     keepfiles=True,\n",
    "#     solver=\"conopt4\",\n",
    "#     tmpdir=\"temp\",\n",
    "#     add_options=[\"gams_model.optfile=1;\"],\n",
    "# )\n",
    "results = SolverFactory(\"ipopt\").solve(\n",
    "    RPB,\n",
    "    tee=True,\n",
    "    options = {\n",
    "        \"max_iter\": 1000,\n",
    "        \"bound_push\": 1e-8,\n",
    "        # \"halt_on_ampl_error\": \"yes\",\n",
    "        \"tol\": 1e-4,\n",
    "        \"max_cpu_time\": 5*60,\n",
    "        # \"mu_strategy\": \"adaptive\",\n",
    "        }\n",
    ")"
   ]
  },
  {
   "cell_type": "code",
   "execution_count": 12,
   "metadata": {
    "scrolled": true
   },
   "outputs": [
    {
     "data": {
      "text/html": [
       "<div>\n",
       "<style scoped>\n",
       "    .dataframe tbody tr th:only-of-type {\n",
       "        vertical-align: middle;\n",
       "    }\n",
       "\n",
       "    .dataframe tbody tr th {\n",
       "        vertical-align: top;\n",
       "    }\n",
       "\n",
       "    .dataframe thead th {\n",
       "        text-align: right;\n",
       "    }\n",
       "</style>\n",
       "<table border=\"1\" class=\"dataframe\">\n",
       "  <thead>\n",
       "    <tr style=\"text-align: right;\">\n",
       "      <th></th>\n",
       "      <th>Value</th>\n",
       "      <th>Doc</th>\n",
       "      <th>Fixed</th>\n",
       "      <th>Lower Bound</th>\n",
       "      <th>Upper Bound</th>\n",
       "    </tr>\n",
       "  </thead>\n",
       "  <tbody>\n",
       "    <tr>\n",
       "      <th>ads.L</th>\n",
       "      <td>2.296788</td>\n",
       "      <td>Bed Length [m]</td>\n",
       "      <td>False</td>\n",
       "      <td>0.01</td>\n",
       "      <td>40</td>\n",
       "    </tr>\n",
       "    <tr>\n",
       "      <th>ads.D</th>\n",
       "      <td>10.000000</td>\n",
       "      <td>Bed diameter [m]</td>\n",
       "      <td>True</td>\n",
       "      <td>None</td>\n",
       "      <td>None</td>\n",
       "    </tr>\n",
       "    <tr>\n",
       "      <th>ads.w_rpm</th>\n",
       "      <td>0.004795</td>\n",
       "      <td>bed rotational speed [revolutions/min]</td>\n",
       "      <td>False</td>\n",
       "      <td>0.00001</td>\n",
       "      <td>0.1</td>\n",
       "    </tr>\n",
       "    <tr>\n",
       "      <th>ads.theta</th>\n",
       "      <td>0.606012</td>\n",
       "      <td>Fraction of bed [-]</td>\n",
       "      <td>False</td>\n",
       "      <td>0.01</td>\n",
       "      <td>0.99</td>\n",
       "    </tr>\n",
       "    <tr>\n",
       "      <th>des.theta</th>\n",
       "      <td>0.393988</td>\n",
       "      <td>Fraction of bed [-]</td>\n",
       "      <td>False</td>\n",
       "      <td>0.01</td>\n",
       "      <td>0.99</td>\n",
       "    </tr>\n",
       "    <tr>\n",
       "      <th>ads.P_in</th>\n",
       "      <td>1.500000</td>\n",
       "      <td>Inlet flue gas pressure [bar]</td>\n",
       "      <td>False</td>\n",
       "      <td>1</td>\n",
       "      <td>1.5</td>\n",
       "    </tr>\n",
       "    <tr>\n",
       "      <th>ads.P_out</th>\n",
       "      <td>1.013250</td>\n",
       "      <td>Outlet adsorber pressure [bar]</td>\n",
       "      <td>True</td>\n",
       "      <td>0.99</td>\n",
       "      <td>1.2</td>\n",
       "    </tr>\n",
       "    <tr>\n",
       "      <th>ads.F_in</th>\n",
       "      <td>2572.502253</td>\n",
       "      <td>Inlet adsorber gas flow [mol/s]</td>\n",
       "      <td>False</td>\n",
       "      <td>0</td>\n",
       "      <td>None</td>\n",
       "    </tr>\n",
       "    <tr>\n",
       "      <th>ads.Tg_in</th>\n",
       "      <td>363.000000</td>\n",
       "      <td>Inlet flue gas temperature [K]</td>\n",
       "      <td>True</td>\n",
       "      <td>None</td>\n",
       "      <td>None</td>\n",
       "    </tr>\n",
       "    <tr>\n",
       "      <th>ads.Tx</th>\n",
       "      <td>298.000000</td>\n",
       "      <td>heat exchange fluid temperature, constant [K]</td>\n",
       "      <td>False</td>\n",
       "      <td>298</td>\n",
       "      <td>368</td>\n",
       "    </tr>\n",
       "    <tr>\n",
       "      <th>des.P_in</th>\n",
       "      <td>1.016762</td>\n",
       "      <td>Inlet flue gas pressure [bar]</td>\n",
       "      <td>False</td>\n",
       "      <td>1.01325</td>\n",
       "      <td>1.5</td>\n",
       "    </tr>\n",
       "    <tr>\n",
       "      <th>des.P_out</th>\n",
       "      <td>1.013250</td>\n",
       "      <td>Outlet adsorber pressure [bar]</td>\n",
       "      <td>True</td>\n",
       "      <td>0.99</td>\n",
       "      <td>1.2</td>\n",
       "    </tr>\n",
       "    <tr>\n",
       "      <th>des.F_in</th>\n",
       "      <td>30.493734</td>\n",
       "      <td>Inlet adsorber gas flow [mol/s]</td>\n",
       "      <td>False</td>\n",
       "      <td>0</td>\n",
       "      <td>None</td>\n",
       "    </tr>\n",
       "    <tr>\n",
       "      <th>des.Tg_in</th>\n",
       "      <td>393.000000</td>\n",
       "      <td>Inlet flue gas temperature [K]</td>\n",
       "      <td>True</td>\n",
       "      <td>None</td>\n",
       "      <td>None</td>\n",
       "    </tr>\n",
       "    <tr>\n",
       "      <th>des.Tx</th>\n",
       "      <td>433.000000</td>\n",
       "      <td>heat exchange fluid temperature, constant [K]</td>\n",
       "      <td>False</td>\n",
       "      <td>373</td>\n",
       "      <td>433</td>\n",
       "    </tr>\n",
       "    <tr>\n",
       "      <th>ads.CO2_capture</th>\n",
       "      <td>0.900000</td>\n",
       "      <td>CO2 capture fraction</td>\n",
       "      <td>True</td>\n",
       "      <td>None</td>\n",
       "      <td>None</td>\n",
       "    </tr>\n",
       "    <tr>\n",
       "      <th>energy_requirement</th>\n",
       "      <td>6.436162</td>\n",
       "      <td>Energy requirement [MJ/kg CO2]</td>\n",
       "      <td>N/A</td>\n",
       "      <td>N/A</td>\n",
       "      <td>N/A</td>\n",
       "    </tr>\n",
       "    <tr>\n",
       "      <th>productivity</th>\n",
       "      <td>12.655415</td>\n",
       "      <td>Productivity [kg CO2/h/m^3]</td>\n",
       "      <td>N/A</td>\n",
       "      <td>N/A</td>\n",
       "      <td>N/A</td>\n",
       "    </tr>\n",
       "    <tr>\n",
       "      <th>ads.y_in[N2]</th>\n",
       "      <td>0.902851</td>\n",
       "      <td>inlet mole fraction</td>\n",
       "      <td>True</td>\n",
       "      <td>NaN</td>\n",
       "      <td>NaN</td>\n",
       "    </tr>\n",
       "    <tr>\n",
       "      <th>ads.y_in[CO2]</th>\n",
       "      <td>0.004149</td>\n",
       "      <td>inlet mole fraction</td>\n",
       "      <td>True</td>\n",
       "      <td>NaN</td>\n",
       "      <td>NaN</td>\n",
       "    </tr>\n",
       "    <tr>\n",
       "      <th>ads.y_in[H2O]</th>\n",
       "      <td>0.093000</td>\n",
       "      <td>inlet mole fraction</td>\n",
       "      <td>True</td>\n",
       "      <td>NaN</td>\n",
       "      <td>NaN</td>\n",
       "    </tr>\n",
       "    <tr>\n",
       "      <th>ads.y_out[N2]</th>\n",
       "      <td>0.906235</td>\n",
       "      <td>outlet mole fraction</td>\n",
       "      <td>False</td>\n",
       "      <td>0.0</td>\n",
       "      <td>1.0</td>\n",
       "    </tr>\n",
       "    <tr>\n",
       "      <th>ads.y_out[CO2]</th>\n",
       "      <td>0.000416</td>\n",
       "      <td>outlet mole fraction</td>\n",
       "      <td>False</td>\n",
       "      <td>0.0</td>\n",
       "      <td>1.0</td>\n",
       "    </tr>\n",
       "    <tr>\n",
       "      <th>ads.y_out[H2O]</th>\n",
       "      <td>0.093349</td>\n",
       "      <td>outlet mole fraction</td>\n",
       "      <td>False</td>\n",
       "      <td>0.0</td>\n",
       "      <td>1.0</td>\n",
       "    </tr>\n",
       "  </tbody>\n",
       "</table>\n",
       "</div>"
      ],
      "text/plain": [
       "                          Value  \\\n",
       "ads.L                  2.296788   \n",
       "ads.D                 10.000000   \n",
       "ads.w_rpm              0.004795   \n",
       "ads.theta              0.606012   \n",
       "des.theta              0.393988   \n",
       "ads.P_in               1.500000   \n",
       "ads.P_out              1.013250   \n",
       "ads.F_in            2572.502253   \n",
       "ads.Tg_in            363.000000   \n",
       "ads.Tx               298.000000   \n",
       "des.P_in               1.016762   \n",
       "des.P_out              1.013250   \n",
       "des.F_in              30.493734   \n",
       "des.Tg_in            393.000000   \n",
       "des.Tx               433.000000   \n",
       "ads.CO2_capture        0.900000   \n",
       "energy_requirement     6.436162   \n",
       "productivity          12.655415   \n",
       "ads.y_in[N2]           0.902851   \n",
       "ads.y_in[CO2]          0.004149   \n",
       "ads.y_in[H2O]          0.093000   \n",
       "ads.y_out[N2]          0.906235   \n",
       "ads.y_out[CO2]         0.000416   \n",
       "ads.y_out[H2O]         0.093349   \n",
       "\n",
       "                                                              Doc  Fixed  \\\n",
       "ads.L                                              Bed Length [m]  False   \n",
       "ads.D                                            Bed diameter [m]   True   \n",
       "ads.w_rpm                  bed rotational speed [revolutions/min]  False   \n",
       "ads.theta                                     Fraction of bed [-]  False   \n",
       "des.theta                                     Fraction of bed [-]  False   \n",
       "ads.P_in                            Inlet flue gas pressure [bar]  False   \n",
       "ads.P_out                          Outlet adsorber pressure [bar]   True   \n",
       "ads.F_in                          Inlet adsorber gas flow [mol/s]  False   \n",
       "ads.Tg_in                          Inlet flue gas temperature [K]   True   \n",
       "ads.Tx              heat exchange fluid temperature, constant [K]  False   \n",
       "des.P_in                            Inlet flue gas pressure [bar]  False   \n",
       "des.P_out                          Outlet adsorber pressure [bar]   True   \n",
       "des.F_in                          Inlet adsorber gas flow [mol/s]  False   \n",
       "des.Tg_in                          Inlet flue gas temperature [K]   True   \n",
       "des.Tx              heat exchange fluid temperature, constant [K]  False   \n",
       "ads.CO2_capture                              CO2 capture fraction   True   \n",
       "energy_requirement                 Energy requirement [MJ/kg CO2]    N/A   \n",
       "productivity                          Productivity [kg CO2/h/m^3]    N/A   \n",
       "ads.y_in[N2]                                  inlet mole fraction   True   \n",
       "ads.y_in[CO2]                                 inlet mole fraction   True   \n",
       "ads.y_in[H2O]                                 inlet mole fraction   True   \n",
       "ads.y_out[N2]                                outlet mole fraction  False   \n",
       "ads.y_out[CO2]                               outlet mole fraction  False   \n",
       "ads.y_out[H2O]                               outlet mole fraction  False   \n",
       "\n",
       "                   Lower Bound Upper Bound  \n",
       "ads.L                     0.01          40  \n",
       "ads.D                     None        None  \n",
       "ads.w_rpm              0.00001         0.1  \n",
       "ads.theta                 0.01        0.99  \n",
       "des.theta                 0.01        0.99  \n",
       "ads.P_in                     1         1.5  \n",
       "ads.P_out                 0.99         1.2  \n",
       "ads.F_in                     0        None  \n",
       "ads.Tg_in                 None        None  \n",
       "ads.Tx                     298         368  \n",
       "des.P_in               1.01325         1.5  \n",
       "des.P_out                 0.99         1.2  \n",
       "des.F_in                     0        None  \n",
       "des.Tg_in                 None        None  \n",
       "des.Tx                     373         433  \n",
       "ads.CO2_capture           None        None  \n",
       "energy_requirement         N/A         N/A  \n",
       "productivity               N/A         N/A  \n",
       "ads.y_in[N2]               NaN         NaN  \n",
       "ads.y_in[CO2]              NaN         NaN  \n",
       "ads.y_in[H2O]              NaN         NaN  \n",
       "ads.y_out[N2]              0.0         1.0  \n",
       "ads.y_out[CO2]             0.0         1.0  \n",
       "ads.y_out[H2O]             0.0         1.0  "
      ]
     },
     "execution_count": 12,
     "metadata": {},
     "output_type": "execute_result"
    }
   ],
   "source": [
    "report(RPB)"
   ]
  },
  {
   "cell_type": "markdown",
   "metadata": {},
   "source": [
    "# Plotting"
   ]
  },
  {
   "cell_type": "code",
   "execution_count": null,
   "metadata": {},
   "outputs": [],
   "source": [
    "full_contactor_plotting(RPB)"
   ]
  },
  {
   "cell_type": "markdown",
   "metadata": {},
   "source": [
    "# Save Model"
   ]
  },
  {
   "cell_type": "code",
   "execution_count": null,
   "metadata": {},
   "outputs": [],
   "source": [
    "# save model\n",
    "to_json(RPB, fname=\"base case solution 012424.json.gz\", gz=True, human_read=False)"
   ]
  },
  {
   "cell_type": "markdown",
   "metadata": {},
   "source": [
    "# Diagnostics testing"
   ]
  },
  {
   "cell_type": "code",
   "execution_count": null,
   "metadata": {},
   "outputs": [],
   "source": [
    "iscale.set_scaling_factor(RPB.ads.Tg_out_eq, 0.1)\n",
    "iscale.set_scaling_factor(RPB.des.Tg_out_eq, 0.1)\n",
    "\n",
    "for z in RPB.ads.z:\n",
    "    for o in RPB.ads.o:\n",
    "        if 0 < z < 1 and 0 < o < 1:\n",
    "            iscale.set_scaling_factor(RPB.des.pde_solidEB[z,o], 1e-2)\n",
    "            iscale.set_scaling_factor(RPB.ads.Q_gs_eq[z, o], 0.001)"
   ]
  },
  {
   "cell_type": "code",
   "execution_count": null,
   "metadata": {},
   "outputs": [],
   "source": [
    "# solve using conopt thorugh gams\n",
    "results = SolverFactory(\"gams\").solve(\n",
    "    RPB,\n",
    "    tee=True,\n",
    "    keepfiles=True,\n",
    "    solver=\"conopt4\",\n",
    "    tmpdir=\"temp\",\n",
    "    add_options=[\"gams_model.optfile=1;\"],\n",
    ")"
   ]
  },
  {
   "cell_type": "code",
   "execution_count": null,
   "metadata": {},
   "outputs": [],
   "source": [
    "RPB.ads.L.fix()\n",
    "RPB.ads.theta.fix()\n",
    "RPB.des.P_in.fix()\n",
    "RPB.ads.Tx.fix()\n",
    "RPB.des.Tx.fix()\n",
    "RPB.ads.w_rpm.fix()\n",
    "\n",
    "degrees_of_freedom(RPB) # need dof=0 for diagnostic tools"
   ]
  },
  {
   "cell_type": "code",
   "execution_count": null,
   "metadata": {},
   "outputs": [],
   "source": [
    "from idaes.core.util.model_diagnostics import DiagnosticsToolbox"
   ]
  },
  {
   "cell_type": "code",
   "execution_count": null,
   "metadata": {},
   "outputs": [],
   "source": [
    "diagtool = DiagnosticsToolbox(RPB)"
   ]
  },
  {
   "cell_type": "code",
   "execution_count": null,
   "metadata": {},
   "outputs": [],
   "source": [
    "diagtool.report_structural_issues()"
   ]
  },
  {
   "cell_type": "code",
   "execution_count": null,
   "metadata": {},
   "outputs": [],
   "source": [
    "diagtool.report_numerical_issues()"
   ]
  },
  {
   "cell_type": "code",
   "execution_count": null,
   "metadata": {},
   "outputs": [],
   "source": [
    "diagtool.display_constraints_with_extreme_jacobians()"
   ]
  },
  {
   "cell_type": "code",
   "execution_count": null,
   "metadata": {},
   "outputs": [],
   "source": [
    "iscale.get_scaling_factor(RPB.ads.Q_gs_eq[0.5,0.005])"
   ]
  },
  {
   "cell_type": "code",
   "execution_count": null,
   "metadata": {},
   "outputs": [],
   "source": [
    "value(RPB.des.Cp_g_out * RPB.des.Tg_out)"
   ]
  },
  {
   "cell_type": "code",
   "execution_count": null,
   "metadata": {},
   "outputs": [],
   "source": [
    "m=RPB.des\n",
    "z=0.8846928460920032\n",
    "o=0.005\n",
    "\n",
    "value((1 - m.eb) * m.rho_sol * m.Cp_sol * m.w * m.dTsdo[z, o])"
   ]
  },
  {
   "cell_type": "code",
   "execution_count": null,
   "metadata": {},
   "outputs": [],
   "source": [
    "print(units.get_units(RPB.productivity))"
   ]
  },
  {
   "cell_type": "code",
   "execution_count": null,
   "metadata": {},
   "outputs": [],
   "source": [
    "from pyomo.util.check_units import assert_units_consistent, assert_units_equivalent, check_units_equivalent"
   ]
  },
  {
   "cell_type": "code",
   "execution_count": null,
   "metadata": {},
   "outputs": [],
   "source": [
    "assert_units_consistent(RPB.lean_temp_constraint)"
   ]
  },
  {
   "cell_type": "code",
   "execution_count": null,
   "metadata": {},
   "outputs": [],
   "source": [
    "check_scaling(RPB)"
   ]
  },
  {
   "cell_type": "code",
   "execution_count": null,
   "metadata": {},
   "outputs": [],
   "source": [
    "m=RPB.des\n",
    "z=0.8846928460920032\n",
    "o=0.005\n",
    "\n",
    "m.Q_gs[z, o]()"
   ]
  },
  {
   "cell_type": "code",
   "execution_count": null,
   "metadata": {},
   "outputs": [],
   "source": [
    "RPB.ads.Q_gs_eq[0.04336244396414017,0.005]()/RPB.ads.R_HT_gs() * RPB.ads.h_gs[0.04336244396414017,0.005]() * RPB.ads.a_s()"
   ]
  },
  {
   "cell_type": "code",
   "execution_count": null,
   "metadata": {},
   "outputs": [],
   "source": []
  }
 ],
 "metadata": {
  "kernelspec": {
   "display_name": "Python 3 (ipykernel)",
   "language": "python",
   "name": "python3"
  },
  "language_info": {
   "codemirror_mode": {
    "name": "ipython",
    "version": 3
   },
   "file_extension": ".py",
   "mimetype": "text/x-python",
   "name": "python",
   "nbconvert_exporter": "python",
   "pygments_lexer": "ipython3",
   "version": "3.12.2"
  }
 },
 "nbformat": 4,
 "nbformat_minor": 4
}
